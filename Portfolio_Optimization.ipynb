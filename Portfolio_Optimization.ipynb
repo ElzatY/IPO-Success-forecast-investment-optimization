{
  "nbformat": 4,
  "nbformat_minor": 0,
  "metadata": {
    "colab": {
      "name": "Portfolio Optimization",
      "provenance": [],
      "collapsed_sections": []
    },
    "kernelspec": {
      "name": "python3",
      "display_name": "Python 3"
    }
  },
  "cells": [
    {
      "cell_type": "code",
      "metadata": {
        "id": "gpYl3pvL07Hw",
        "colab_type": "code",
        "colab": {}
      },
      "source": [
        "import cvxpy as cvx\n",
        "import numpy as np\n",
        "import matplotlib\n",
        "import matplotlib.pyplot as plt\n",
        "import pandas as pd\n",
        "import networkx as nx\n",
        "import seaborn as sns\n",
        "import statistics"
      ],
      "execution_count": 0,
      "outputs": []
    },
    {
      "cell_type": "markdown",
      "metadata": {
        "id": "ynjNZTMbQtQo",
        "colab_type": "text"
      },
      "source": [
        "# Data"
      ]
    },
    {
      "cell_type": "code",
      "metadata": {
        "id": "cBW5BxfdCzrB",
        "colab_type": "code",
        "outputId": "b973858f-e584-488b-c598-a60d0be75fb2",
        "colab": {
          "base_uri": "https://localhost:8080/",
          "height": 938
        }
      },
      "source": [
        "df = pd.read_csv(\"https://drive.google.com/uc?export=download&id=1oHeX_64e8pxoDj1UEIwykzRImTnX_dg9\")\n",
        "df"
      ],
      "execution_count": 0,
      "outputs": [
        {
          "output_type": "execute_result",
          "data": {
            "text/html": [
              "<div>\n",
              "<style scoped>\n",
              "    .dataframe tbody tr th:only-of-type {\n",
              "        vertical-align: middle;\n",
              "    }\n",
              "\n",
              "    .dataframe tbody tr th {\n",
              "        vertical-align: top;\n",
              "    }\n",
              "\n",
              "    .dataframe thead th {\n",
              "        text-align: right;\n",
              "    }\n",
              "</style>\n",
              "<table border=\"1\" class=\"dataframe\">\n",
              "  <thead>\n",
              "    <tr style=\"text-align: right;\">\n",
              "      <th></th>\n",
              "      <th>name</th>\n",
              "      <th>return</th>\n",
              "      <th>risk</th>\n",
              "      <th>actual</th>\n",
              "    </tr>\n",
              "  </thead>\n",
              "  <tbody>\n",
              "    <tr>\n",
              "      <th>0</th>\n",
              "      <td>Milestone Pharmaceuticals</td>\n",
              "      <td>0.044465</td>\n",
              "      <td>0.159875</td>\n",
              "      <td>0.026667</td>\n",
              "    </tr>\n",
              "    <tr>\n",
              "      <th>1</th>\n",
              "      <td>NextCure</td>\n",
              "      <td>0.051831</td>\n",
              "      <td>0.099106</td>\n",
              "      <td>0.326667</td>\n",
              "    </tr>\n",
              "    <tr>\n",
              "      <th>2</th>\n",
              "      <td>South Plains Financial</td>\n",
              "      <td>0.191187</td>\n",
              "      <td>0.258347</td>\n",
              "      <td>0.011429</td>\n",
              "    </tr>\n",
              "    <tr>\n",
              "      <th>3</th>\n",
              "      <td>Satsuma Pharmaceuticals</td>\n",
              "      <td>0.072822</td>\n",
              "      <td>0.106503</td>\n",
              "      <td>0.126667</td>\n",
              "    </tr>\n",
              "    <tr>\n",
              "      <th>4</th>\n",
              "      <td>Cloudflare</td>\n",
              "      <td>0.036027</td>\n",
              "      <td>0.202901</td>\n",
              "      <td>0.000000</td>\n",
              "    </tr>\n",
              "    <tr>\n",
              "      <th>5</th>\n",
              "      <td>SpringWorks Therapeutics</td>\n",
              "      <td>0.321089</td>\n",
              "      <td>0.214062</td>\n",
              "      <td>0.255556</td>\n",
              "    </tr>\n",
              "    <tr>\n",
              "      <th>6</th>\n",
              "      <td>IGM Biosciences</td>\n",
              "      <td>0.232674</td>\n",
              "      <td>0.213043</td>\n",
              "      <td>0.518750</td>\n",
              "    </tr>\n",
              "    <tr>\n",
              "      <th>7</th>\n",
              "      <td>Datadog</td>\n",
              "      <td>0.230855</td>\n",
              "      <td>0.268920</td>\n",
              "      <td>0.392593</td>\n",
              "    </tr>\n",
              "    <tr>\n",
              "      <th>8</th>\n",
              "      <td>Exagen</td>\n",
              "      <td>0.049967</td>\n",
              "      <td>0.179076</td>\n",
              "      <td>0.221429</td>\n",
              "    </tr>\n",
              "    <tr>\n",
              "      <th>9</th>\n",
              "      <td>Oportun Financial</td>\n",
              "      <td>0.076586</td>\n",
              "      <td>0.176406</td>\n",
              "      <td>0.080000</td>\n",
              "    </tr>\n",
              "    <tr>\n",
              "      <th>10</th>\n",
              "      <td>Peloton Interactive</td>\n",
              "      <td>0.172522</td>\n",
              "      <td>0.252193</td>\n",
              "      <td>-0.110345</td>\n",
              "    </tr>\n",
              "    <tr>\n",
              "      <th>11</th>\n",
              "      <td>Sonim Technologies</td>\n",
              "      <td>0.136712</td>\n",
              "      <td>0.243089</td>\n",
              "      <td>0.000000</td>\n",
              "    </tr>\n",
              "    <tr>\n",
              "      <th>12</th>\n",
              "      <td>Cabaletta Bio</td>\n",
              "      <td>0.162258</td>\n",
              "      <td>0.369983</td>\n",
              "      <td>-0.090909</td>\n",
              "    </tr>\n",
              "    <tr>\n",
              "      <th>13</th>\n",
              "      <td>Phathom Pharmaceuticals</td>\n",
              "      <td>0.282508</td>\n",
              "      <td>0.282643</td>\n",
              "      <td>0.294737</td>\n",
              "    </tr>\n",
              "    <tr>\n",
              "      <th>14</th>\n",
              "      <td>Progyny</td>\n",
              "      <td>0.064641</td>\n",
              "      <td>0.205723</td>\n",
              "      <td>0.223077</td>\n",
              "    </tr>\n",
              "    <tr>\n",
              "      <th>15</th>\n",
              "      <td>Youdao</td>\n",
              "      <td>0.397017</td>\n",
              "      <td>0.276202</td>\n",
              "      <td>-0.264706</td>\n",
              "    </tr>\n",
              "    <tr>\n",
              "      <th>16</th>\n",
              "      <td>Oyster Point Pharma</td>\n",
              "      <td>0.154905</td>\n",
              "      <td>0.171852</td>\n",
              "      <td>0.175000</td>\n",
              "    </tr>\n",
              "    <tr>\n",
              "      <th>17</th>\n",
              "      <td>BellRing Brands</td>\n",
              "      <td>0.085152</td>\n",
              "      <td>0.208090</td>\n",
              "      <td>0.178571</td>\n",
              "    </tr>\n",
              "    <tr>\n",
              "      <th>18</th>\n",
              "      <td>Innate Pharma SA</td>\n",
              "      <td>1.014454</td>\n",
              "      <td>0.956863</td>\n",
              "      <td>0.109091</td>\n",
              "    </tr>\n",
              "    <tr>\n",
              "      <th>19</th>\n",
              "      <td>BRP Group</td>\n",
              "      <td>0.086031</td>\n",
              "      <td>0.209256</td>\n",
              "      <td>0.171429</td>\n",
              "    </tr>\n",
              "    <tr>\n",
              "      <th>20</th>\n",
              "      <td>PagerDuty</td>\n",
              "      <td>0.546064</td>\n",
              "      <td>0.532501</td>\n",
              "      <td>0.595833</td>\n",
              "    </tr>\n",
              "    <tr>\n",
              "      <th>21</th>\n",
              "      <td>Tufin Software Technologies Ltd.</td>\n",
              "      <td>0.382969</td>\n",
              "      <td>0.277682</td>\n",
              "      <td>0.364286</td>\n",
              "    </tr>\n",
              "    <tr>\n",
              "      <th>22</th>\n",
              "      <td>Q&amp;K International Group</td>\n",
              "      <td>0.225159</td>\n",
              "      <td>0.328521</td>\n",
              "      <td>0.035294</td>\n",
              "    </tr>\n",
              "    <tr>\n",
              "      <th>23</th>\n",
              "      <td>Centogene B.V.</td>\n",
              "      <td>0.071443</td>\n",
              "      <td>0.199112</td>\n",
              "      <td>-0.107143</td>\n",
              "    </tr>\n",
              "    <tr>\n",
              "      <th>24</th>\n",
              "      <td>ECMOHO Ltd.</td>\n",
              "      <td>0.064043</td>\n",
              "      <td>0.339097</td>\n",
              "      <td>0.010000</td>\n",
              "    </tr>\n",
              "    <tr>\n",
              "      <th>25</th>\n",
              "      <td>Vir Biotechnology</td>\n",
              "      <td>0.314980</td>\n",
              "      <td>0.280107</td>\n",
              "      <td>-0.300000</td>\n",
              "    </tr>\n",
              "    <tr>\n",
              "      <th>26</th>\n",
              "      <td>HBT Financial</td>\n",
              "      <td>0.262709</td>\n",
              "      <td>0.242682</td>\n",
              "      <td>-0.031250</td>\n",
              "    </tr>\n",
              "    <tr>\n",
              "      <th>27</th>\n",
              "      <td>89bio</td>\n",
              "      <td>0.166206</td>\n",
              "      <td>0.166649</td>\n",
              "      <td>0.300000</td>\n",
              "    </tr>\n",
              "    <tr>\n",
              "      <th>28</th>\n",
              "      <td>Jumia</td>\n",
              "      <td>0.330605</td>\n",
              "      <td>0.204343</td>\n",
              "      <td>0.342105</td>\n",
              "    </tr>\n",
              "    <tr>\n",
              "      <th>29</th>\n",
              "      <td>10x Genomics</td>\n",
              "      <td>0.357599</td>\n",
              "      <td>0.393473</td>\n",
              "      <td>0.353846</td>\n",
              "    </tr>\n",
              "    <tr>\n",
              "      <th>30</th>\n",
              "      <td>SmileDirectClub</td>\n",
              "      <td>0.354822</td>\n",
              "      <td>0.257367</td>\n",
              "      <td>-0.186957</td>\n",
              "    </tr>\n",
              "  </tbody>\n",
              "</table>\n",
              "</div>"
            ],
            "text/plain": [
              "                                name    return      risk    actual\n",
              "0          Milestone Pharmaceuticals  0.044465  0.159875  0.026667\n",
              "1                           NextCure  0.051831  0.099106  0.326667\n",
              "2             South Plains Financial  0.191187  0.258347  0.011429\n",
              "3            Satsuma Pharmaceuticals  0.072822  0.106503  0.126667\n",
              "4                         Cloudflare  0.036027  0.202901  0.000000\n",
              "5           SpringWorks Therapeutics  0.321089  0.214062  0.255556\n",
              "6                    IGM Biosciences  0.232674  0.213043  0.518750\n",
              "7                            Datadog  0.230855  0.268920  0.392593\n",
              "8                             Exagen  0.049967  0.179076  0.221429\n",
              "9                  Oportun Financial  0.076586  0.176406  0.080000\n",
              "10               Peloton Interactive  0.172522  0.252193 -0.110345\n",
              "11                Sonim Technologies  0.136712  0.243089  0.000000\n",
              "12                     Cabaletta Bio  0.162258  0.369983 -0.090909\n",
              "13           Phathom Pharmaceuticals  0.282508  0.282643  0.294737\n",
              "14                           Progyny  0.064641  0.205723  0.223077\n",
              "15                            Youdao  0.397017  0.276202 -0.264706\n",
              "16               Oyster Point Pharma  0.154905  0.171852  0.175000\n",
              "17                   BellRing Brands  0.085152  0.208090  0.178571\n",
              "18                  Innate Pharma SA  1.014454  0.956863  0.109091\n",
              "19                         BRP Group  0.086031  0.209256  0.171429\n",
              "20                         PagerDuty  0.546064  0.532501  0.595833\n",
              "21  Tufin Software Technologies Ltd.  0.382969  0.277682  0.364286\n",
              "22           Q&K International Group  0.225159  0.328521  0.035294\n",
              "23                    Centogene B.V.  0.071443  0.199112 -0.107143\n",
              "24                       ECMOHO Ltd.  0.064043  0.339097  0.010000\n",
              "25                 Vir Biotechnology  0.314980  0.280107 -0.300000\n",
              "26                     HBT Financial  0.262709  0.242682 -0.031250\n",
              "27                             89bio  0.166206  0.166649  0.300000\n",
              "28                             Jumia  0.330605  0.204343  0.342105\n",
              "29                      10x Genomics  0.357599  0.393473  0.353846\n",
              "30                   SmileDirectClub  0.354822  0.257367 -0.186957"
            ]
          },
          "metadata": {
            "tags": []
          },
          "execution_count": 2
        }
      ]
    },
    {
      "cell_type": "code",
      "metadata": {
        "id": "9GSR5RCMobhR",
        "colab_type": "code",
        "outputId": "e07548b4-5c3c-454e-addc-eb4bb264005a",
        "colab": {
          "base_uri": "https://localhost:8080/",
          "height": 243
        }
      },
      "source": [
        "df_full = pd.read_csv(\"https://drive.google.com/uc?export=download&id=1BzAg8QC7ds_UgrhsM8pdbwGAuDOcfzuE\")\n",
        "df_full.head()"
      ],
      "execution_count": 0,
      "outputs": [
        {
          "output_type": "execute_result",
          "data": {
            "text/html": [
              "<div>\n",
              "<style scoped>\n",
              "    .dataframe tbody tr th:only-of-type {\n",
              "        vertical-align: middle;\n",
              "    }\n",
              "\n",
              "    .dataframe tbody tr th {\n",
              "        vertical-align: top;\n",
              "    }\n",
              "\n",
              "    .dataframe thead th {\n",
              "        text-align: right;\n",
              "    }\n",
              "</style>\n",
              "<table border=\"1\" class=\"dataframe\">\n",
              "  <thead>\n",
              "    <tr style=\"text-align: right;\">\n",
              "      <th></th>\n",
              "      <th>Company</th>\n",
              "      <th>Industry</th>\n",
              "      <th>Employee_size</th>\n",
              "      <th>Age</th>\n",
              "      <th>IsUs</th>\n",
              "      <th>Revenues_millions</th>\n",
              "      <th>Net_Income_millions</th>\n",
              "      <th>Is_top8_IB</th>\n",
              "      <th>Exchange</th>\n",
              "      <th>Month</th>\n",
              "      <th>Offer_Date</th>\n",
              "      <th>Shares_millions</th>\n",
              "      <th>Est_volume_millions</th>\n",
              "      <th>Offer_Price</th>\n",
              "      <th>First_Day_Close</th>\n",
              "    </tr>\n",
              "  </thead>\n",
              "  <tbody>\n",
              "    <tr>\n",
              "      <th>0</th>\n",
              "      <td>Spring Bank Pharmaceuticals</td>\n",
              "      <td>Healthcare</td>\n",
              "      <td>17</td>\n",
              "      <td>17</td>\n",
              "      <td>1</td>\n",
              "      <td>0.9</td>\n",
              "      <td>-11.6</td>\n",
              "      <td>0</td>\n",
              "      <td>NASDAQ</td>\n",
              "      <td>6</td>\n",
              "      <td>6/5/2016</td>\n",
              "      <td>0.9</td>\n",
              "      <td>11.0</td>\n",
              "      <td>12.0</td>\n",
              "      <td>11.1</td>\n",
              "    </tr>\n",
              "    <tr>\n",
              "      <th>1</th>\n",
              "      <td>ObsEva SA</td>\n",
              "      <td>Healthcare</td>\n",
              "      <td>27</td>\n",
              "      <td>7</td>\n",
              "      <td>0</td>\n",
              "      <td>0.0</td>\n",
              "      <td>-25.6</td>\n",
              "      <td>1</td>\n",
              "      <td>NASDAQ</td>\n",
              "      <td>1</td>\n",
              "      <td>1/26/2017</td>\n",
              "      <td>6.5</td>\n",
              "      <td>96.8</td>\n",
              "      <td>15.0</td>\n",
              "      <td>11.7</td>\n",
              "    </tr>\n",
              "    <tr>\n",
              "      <th>2</th>\n",
              "      <td>Snap</td>\n",
              "      <td>Technology</td>\n",
              "      <td>1859</td>\n",
              "      <td>9</td>\n",
              "      <td>1</td>\n",
              "      <td>404.5</td>\n",
              "      <td>-514.6</td>\n",
              "      <td>1</td>\n",
              "      <td>NYSE</td>\n",
              "      <td>2</td>\n",
              "      <td>2/3/2017</td>\n",
              "      <td>200.0</td>\n",
              "      <td>3400.0</td>\n",
              "      <td>17.0</td>\n",
              "      <td>27.1</td>\n",
              "    </tr>\n",
              "    <tr>\n",
              "      <th>3</th>\n",
              "      <td>Spero Therapeutics</td>\n",
              "      <td>Healthcare</td>\n",
              "      <td>26</td>\n",
              "      <td>6</td>\n",
              "      <td>1</td>\n",
              "      <td>0.0</td>\n",
              "      <td>-35.0</td>\n",
              "      <td>1</td>\n",
              "      <td>NASDAQ</td>\n",
              "      <td>2</td>\n",
              "      <td>2/11/2017</td>\n",
              "      <td>5.5</td>\n",
              "      <td>77.0</td>\n",
              "      <td>14.0</td>\n",
              "      <td>11.6</td>\n",
              "    </tr>\n",
              "    <tr>\n",
              "      <th>4</th>\n",
              "      <td>Tocagen</td>\n",
              "      <td>Healthcare</td>\n",
              "      <td>61</td>\n",
              "      <td>12</td>\n",
              "      <td>1</td>\n",
              "      <td>0.0</td>\n",
              "      <td>-33.4</td>\n",
              "      <td>0</td>\n",
              "      <td>NASDAQ</td>\n",
              "      <td>4</td>\n",
              "      <td>4/13/2017</td>\n",
              "      <td>8.5</td>\n",
              "      <td>85.0</td>\n",
              "      <td>10.0</td>\n",
              "      <td>12.5</td>\n",
              "    </tr>\n",
              "  </tbody>\n",
              "</table>\n",
              "</div>"
            ],
            "text/plain": [
              "                       Company    Industry  ...  Offer_Price  First_Day_Close\n",
              "0  Spring Bank Pharmaceuticals  Healthcare  ...         12.0             11.1\n",
              "1                    ObsEva SA  Healthcare  ...         15.0             11.7\n",
              "2                         Snap  Technology  ...         17.0             27.1\n",
              "3           Spero Therapeutics  Healthcare  ...         14.0             11.6\n",
              "4                      Tocagen  Healthcare  ...         10.0             12.5\n",
              "\n",
              "[5 rows x 15 columns]"
            ]
          },
          "metadata": {
            "tags": []
          },
          "execution_count": 3
        }
      ]
    },
    {
      "cell_type": "code",
      "metadata": {
        "id": "SYvovuS2vgo0",
        "colab_type": "code",
        "outputId": "d16c3721-8b9b-44db-fb82-606ac7a22bf4",
        "colab": {
          "base_uri": "https://localhost:8080/",
          "height": 212
        }
      },
      "source": [
        "df_full['return']=(df_full['First_Day_Close']-df_full['Offer_Price'])/df_full['Offer_Price']\n",
        "print(df_full['return'])"
      ],
      "execution_count": 0,
      "outputs": [
        {
          "output_type": "stream",
          "text": [
            "0     -0.075000\n",
            "1     -0.220000\n",
            "2      0.594118\n",
            "3     -0.171429\n",
            "4      0.250000\n",
            "         ...   \n",
            "362    0.000000\n",
            "363    0.353846\n",
            "364   -0.186957\n",
            "365    0.353846\n",
            "366   -0.273913\n",
            "Name: return, Length: 367, dtype: float64\n"
          ],
          "name": "stdout"
        }
      ]
    },
    {
      "cell_type": "code",
      "metadata": {
        "id": "v-vImbioojcR",
        "colab_type": "code",
        "colab": {}
      },
      "source": [
        "# ListCompany=[]\n",
        "# ListComp=[]\n",
        "# returnValue = df_full['return']\n",
        "# for name1 in df['name']:\n",
        "#   for nameindex, name2 in enumerate(df_full['Company']):\n",
        "#     if (name1 == name2):\n",
        "#       ListCompany.append(returnValue[nameindex])\n",
        "# print(ListCompany)\n",
        "# for i in range(62):\n",
        "#   if (i%2==1):\n",
        "#     ListComp.append(ListCompany[i])\n",
        "# print(ListComp)"
      ],
      "execution_count": 0,
      "outputs": []
    },
    {
      "cell_type": "code",
      "metadata": {
        "id": "TKfHsUowUNNr",
        "colab_type": "code",
        "outputId": "fdf7475c-abe2-46bc-c576-42bc6af26b8e",
        "colab": {
          "base_uri": "https://localhost:8080/",
          "height": 33
        }
      },
      "source": [
        "df.shape"
      ],
      "execution_count": 0,
      "outputs": [
        {
          "output_type": "execute_result",
          "data": {
            "text/plain": [
              "(31, 4)"
            ]
          },
          "metadata": {
            "tags": []
          },
          "execution_count": 6
        }
      ]
    },
    {
      "cell_type": "code",
      "metadata": {
        "id": "hByXtUXTTJEK",
        "colab_type": "code",
        "outputId": "0a02779b-1b93-4010-e161-aa5a7665bcc6",
        "colab": {
          "base_uri": "https://localhost:8080/",
          "height": 1000
        }
      },
      "source": [
        "returnCoef =  df['return'] #rate of return coefficient for our objective function\n",
        "actualReturn = df['actual']\n",
        "riskCoef = df['risk'] #risk coefficient for each variable\n",
        "print(\"return is:\", returnCoef,\"actual return is\", actualReturn,\" risk is: \",riskCoef)"
      ],
      "execution_count": 0,
      "outputs": [
        {
          "output_type": "stream",
          "text": [
            "return is: 0     0.044465\n",
            "1     0.051831\n",
            "2     0.191187\n",
            "3     0.072822\n",
            "4     0.036027\n",
            "5     0.321089\n",
            "6     0.232674\n",
            "7     0.230855\n",
            "8     0.049967\n",
            "9     0.076586\n",
            "10    0.172522\n",
            "11    0.136712\n",
            "12    0.162258\n",
            "13    0.282508\n",
            "14    0.064641\n",
            "15    0.397017\n",
            "16    0.154905\n",
            "17    0.085152\n",
            "18    1.014454\n",
            "19    0.086031\n",
            "20    0.546064\n",
            "21    0.382969\n",
            "22    0.225159\n",
            "23    0.071443\n",
            "24    0.064043\n",
            "25    0.314980\n",
            "26    0.262709\n",
            "27    0.166206\n",
            "28    0.330605\n",
            "29    0.357599\n",
            "30    0.354822\n",
            "Name: return, dtype: float64 actual return is 0     0.026667\n",
            "1     0.326667\n",
            "2     0.011429\n",
            "3     0.126667\n",
            "4     0.000000\n",
            "5     0.255556\n",
            "6     0.518750\n",
            "7     0.392593\n",
            "8     0.221429\n",
            "9     0.080000\n",
            "10   -0.110345\n",
            "11    0.000000\n",
            "12   -0.090909\n",
            "13    0.294737\n",
            "14    0.223077\n",
            "15   -0.264706\n",
            "16    0.175000\n",
            "17    0.178571\n",
            "18    0.109091\n",
            "19    0.171429\n",
            "20    0.595833\n",
            "21    0.364286\n",
            "22    0.035294\n",
            "23   -0.107143\n",
            "24    0.010000\n",
            "25   -0.300000\n",
            "26   -0.031250\n",
            "27    0.300000\n",
            "28    0.342105\n",
            "29    0.353846\n",
            "30   -0.186957\n",
            "Name: actual, dtype: float64  risk is:  0     0.159875\n",
            "1     0.099106\n",
            "2     0.258347\n",
            "3     0.106503\n",
            "4     0.202901\n",
            "5     0.214062\n",
            "6     0.213043\n",
            "7     0.268920\n",
            "8     0.179076\n",
            "9     0.176406\n",
            "10    0.252193\n",
            "11    0.243089\n",
            "12    0.369983\n",
            "13    0.282643\n",
            "14    0.205723\n",
            "15    0.276202\n",
            "16    0.171852\n",
            "17    0.208090\n",
            "18    0.956863\n",
            "19    0.209256\n",
            "20    0.532501\n",
            "21    0.277682\n",
            "22    0.328521\n",
            "23    0.199112\n",
            "24    0.339097\n",
            "25    0.280107\n",
            "26    0.242682\n",
            "27    0.166649\n",
            "28    0.204343\n",
            "29    0.393473\n",
            "30    0.257367\n",
            "Name: risk, dtype: float64\n"
          ],
          "name": "stdout"
        }
      ]
    },
    {
      "cell_type": "code",
      "metadata": {
        "id": "B8SFDO_bZ_So",
        "colab_type": "code",
        "outputId": "d023faab-aeaa-41b5-c83e-58e25cb8a5fc",
        "colab": {
          "base_uri": "https://localhost:8080/",
          "height": 278
        }
      },
      "source": [
        "for num in range(31):\n",
        "    plt.plot(df['risk'][num], df['return'][num], 'bs')\n",
        "plt.xlabel('Standard deviation')\n",
        "plt.ylabel('Return')\n",
        "plt.show()"
      ],
      "execution_count": 0,
      "outputs": [
        {
          "output_type": "display_data",
          "data": {
            "image/png": "[encoded data removed]",
            "text/plain": [
              "<Figure size 432x288 with 1 Axes>"
            ]
          },
          "metadata": {
            "tags": []
          }
        }
      ]
    },
    {
      "cell_type": "code",
      "metadata": {
        "id": "3zl9bTWkVA6D",
        "colab_type": "code",
        "colab": {}
      },
      "source": [
        "# # Plot long only trade-off curve.\n",
        "# %matplotlib inline\n",
        "# %config InlineBackend.figure_format = 'svg'\n",
        "\n",
        "# markers_on = [13, 27] ## why chose [29,40] ?\n",
        "# fig = plt.figure()\n",
        "# ax = fig.add_subplot(111)\n",
        "# plt.plot(df['risk'], df['return'], 'g-')\n",
        "# for num in markers_on:\n",
        "#     plt.plot(df['risk'][num], df['return'][num], 'bs')\n",
        "#     ax.annotate(i, xy=(df['risk'][num]+.08, df['return'][num]-.03))\n",
        "# for i in range(31):\n",
        "#     plt.plot(df['risk'][i], df['return'][i], 'ro')\n",
        "# plt.xlabel('Standard deviation')\n",
        "# plt.ylabel('Return')\n",
        "# plt.show()"
      ],
      "execution_count": 0,
      "outputs": []
    },
    {
      "cell_type": "markdown",
      "metadata": {
        "id": "4FzoU_ngQrxJ",
        "colab_type": "text"
      },
      "source": [
        "# Optimization: Risk-averse"
      ]
    },
    {
      "cell_type": "markdown",
      "metadata": {
        "id": "nKasjiDKkJKM",
        "colab_type": "text"
      },
      "source": [
        "**Run 100 replication, Get Average and CI**"
      ]
    },
    {
      "cell_type": "code",
      "metadata": {
        "id": "GrMJfl7ksCQ8",
        "colab_type": "code",
        "outputId": "ac92be99-cff8-47ff-b3d7-cdf83ae6b267",
        "colab": {
          "base_uri": "https://localhost:8080/",
          "height": 115
        }
      },
      "source": [
        "listpredict = []\n",
        "listactual = []\n",
        "listdiff = []\n",
        "listdiff2 = []\n",
        "listrandom = []\n",
        "\n",
        "for i in range(100):\n",
        "  listreturn=[]\n",
        "  listrisk=[]\n",
        "  listactualreturn=[]\n",
        "  v = np.random.randint(0,30,10)\n",
        "  #get random combination of 10 companies\n",
        "  for num in v:\n",
        "    listreturn.append(returnCoef[num])\n",
        "    listrisk.append(riskCoef[num])\n",
        "    listactualreturn.append(actualReturn[num])\n",
        "  #print(listactualreturn)\n",
        "  #LP\n",
        "  n=10 #number of companies\n",
        "  x = cvx.Variable(n, nonneg=True) #create a variable for weight, total n\n",
        "  y = cvx.Variable(n, boolean=True)\n",
        "  obj = cvx.Maximize(x*listreturn)\n",
        "  cons = [] #initialize constraint list\n",
        "  cons.append(cvx.sum(x) == 1) #weight sum to 1\n",
        "  cons.append(x*listrisk <= 0.25) #risk constraints\n",
        "  #cons.append(cvx.sum(y) >= 5)\n",
        "  #cons.append(x >= y*0.05)\n",
        "  cons.append(x <= y*0.2)\n",
        "  prob = cvx.Problem(obj,cons)\n",
        "  prob.solve()\n",
        "\n",
        "  #get output\n",
        "  predictWeight = x.value\n",
        "  predictreturn = prob.value\n",
        "  #np.sum(predictWeight*listreturn)\n",
        "  actualreturn = np.sum(predictWeight*listactualreturn)\n",
        "  listpredict.append(predictreturn)\n",
        "  listactual.append(actualreturn)\n",
        "  listdiff.append(predictreturn-actualreturn)\n",
        "  \n",
        "  # summation = 0  #variable to store the summation of differences\n",
        "  # for i in range (0,n):  #looping through each element of the list\n",
        "  #   difference = y[i] - y_bar[i]  #finding the difference between observed and predicted value\n",
        "  #   squared_difference = difference**2  #taking square of the differene \n",
        "  #   summation = summation + squared_difference  #taking a sum of all the differences\n",
        "  # MSE = summation/n  #dividing summation by total values to obtain average\n",
        "  # print \"The Mean Square Error is: \" , MSE\n",
        "  \n",
        "  #random weight generation\n",
        "  a = np.random.random(10)\n",
        "  a /= a.sum()\n",
        "  randomreturn = np.sum(a*listactualreturn)\n",
        "  #randomreturn = np.sum(a*listreturn)\n",
        "  listrandom.append(randomreturn)\n",
        "  listdiff2.append(actualreturn-randomreturn)\n",
        "#print(\"the 100 predicted returns are: \", listpredict)\n",
        "#print(\"the 100 (predict return-actual return) is: \",listdiff)\n",
        "\n",
        "predictAvg = statistics.mean(listpredict)\n",
        "predictstd = statistics.stdev(listpredict)\n",
        "print(\"the average predict return is: \", statistics.mean(listpredict))\n",
        "print(\"the predict return CI is: \", predictAvg-1.96*predictstd/10, predictAvg+1.96*predictstd/10)\n",
        "actualAvg =  statistics.mean(listactual)\n",
        "actualstd = statistics.stdev(listactual)\n",
        "print(\"the average actual return is: \", statistics.mean(listactual))\n",
        "print(\"the actual return CI is: \", actualAvg-1.96*actualstd/10, actualAvg+1.96*actualstd/10)\n",
        "randomAvg = statistics.mean(listrandom)\n",
        "randomstd = statistics.stdev(listrandom)\n",
        "print(\"the average random return is: \", statistics.mean(listrandom))\n",
        "print(\"the random return CI is: \", randomAvg-1.96*randomstd/10, randomAvg+1.96*randomstd/10)\n",
        "\n",
        "# mean = statistics.mean(listdiff)\n",
        "# print(\"the average (predict return-actual return) is: \", mean)\n",
        "# print(\"the average (actual return-random return) is: \", statistics.mean(listdiff2))\n",
        "# std = statistics.stdev(listdiff)\n",
        "# print(\"the difference CI is: \", mean-1.96*std/10, mean+1.96*std/10)"
      ],
      "execution_count": 0,
      "outputs": [
        {
          "output_type": "stream",
          "text": [
            "the average predict return is:  0.2616638155531881\n",
            "the predict return CI is:  0.253909592916216 0.26941803819016014\n",
            "the average actual return is:  0.18456210107852813\n",
            "the actual return CI is:  0.16246146283386179 0.20666273932319448\n",
            "the average random return is:  0.14958314827017763\n",
            "the random return CI is:  0.1352831915301682 0.16388310501018705\n"
          ],
          "name": "stdout"
        }
      ]
    },
    {
      "cell_type": "code",
      "metadata": {
        "id": "MN0DEejDk3jJ",
        "colab_type": "code",
        "colab": {}
      },
      "source": [
        "# summation = 0  #variable to store the summation of differences\n",
        "# for i in range (0,len(listdiff)):  #looping through each element of the list\n",
        "#   difference = listdiff[i] - [i]  #finding the difference between observed and predicted value\n",
        "#   squared_difference = difference**2  #taking square of the differene \n",
        "#   summation = summation + squared_difference  #taking a sum of all the differences\n",
        "# MSE = summation/n  #dividing summation by total values to obtain average\n",
        "# print \"The Mean Square Error is: \" , MSE"
      ],
      "execution_count": 0,
      "outputs": []
    },
    {
      "cell_type": "code",
      "metadata": {
        "id": "AeX0KFPBxpSo",
        "colab_type": "code",
        "outputId": "1a963110-7e7b-413f-fa76-c1c39789c69c",
        "colab": {
          "base_uri": "https://localhost:8080/",
          "height": 102
        }
      },
      "source": [
        "# listpredict = []\n",
        "# listactual = []\n",
        "# listdiff = []\n",
        "# listrandom = []\n",
        "\n",
        "# for i in range(100):\n",
        "#   listreturn=[]\n",
        "#   listrisk=[]\n",
        "#   listactualreturn=[]\n",
        "#   v = np.random.randint(0,30,20)\n",
        "#   #get random combination of 10 companies\n",
        "#   for num in v:\n",
        "#     listreturn.append(returnCoef[num])\n",
        "#     listrisk.append(riskCoef[num])\n",
        "#     listactualreturn.append(actualReturn[num])\n",
        "#   #print(listactualreturn)\n",
        "#   #LP\n",
        "#   n=20 #number of companies\n",
        "#   x = cvx.Variable(n, nonneg=True) #create a variable for weight, total n\n",
        "#   y = cvx.Variable(n, boolean=True)\n",
        "#   obj = cvx.Maximize(x*listreturn)\n",
        "#   cons = [] #initialize constraint list\n",
        "#   cons.append(cvx.sum(x) == 1) #weight sum to 1\n",
        "#   cons.append(x*listrisk <= 0.25) #risk constraints\n",
        "#   cons.append(cvx.sum(y) >= 5)\n",
        "#   cons.append(x >= y*0.1)\n",
        "#   prob = cvx.Problem(obj,cons)\n",
        "#   prob.solve()\n",
        "\n",
        "#   #get output\n",
        "#   predictWeight = x.value\n",
        "#   predictreturn = prob.value\n",
        "#   #np.sum(predictWeight*listreturn)\n",
        "#   actualreturn = np.sum(predictWeight*listactualreturn)\n",
        "#   listpredict.append(predictreturn)\n",
        "#   listactual.append(actualreturn)\n",
        "#   listdiff.append(predictreturn-actualreturn)\n",
        "\n",
        "#   #random weight generation\n",
        "#   a = np.random.random(20)\n",
        "#   a /= a.sum()\n",
        "#   randomreturn = np.sum(a*listactualreturn)\n",
        "#   randomreturn = np.sum(a*listreturn)\n",
        "#   listrandom.append(randomreturn)\n",
        "\n",
        "# #print(\"the 100 predicted returns are: \", listpredict)\n",
        "# #print(\"the 100 (predict return-actual return) is: \",listdiff)\n",
        "\n",
        "# predictAvg = statistics.mean(listpredict)\n",
        "# print(\"the average predict return is: \", statistics.mean(listpredict))\n",
        "# actualAvg =  statistics.mean(listactual)\n",
        "# print(\"the average actual return is: \", statistics.mean(listactual))\n",
        "# randomAvg = statistics.mean(listrandom)\n",
        "# print(\"the average random return is: \", statistics.mean(listrandom))\n",
        "\n",
        "# mean = statistics.mean(listdiff)\n",
        "# print(\"the average (predict return-actual return) is: \", mean)\n",
        "# std = statistics.stdev(listdiff)\n",
        "# print(\"the difference CI is: \", mean-1.96*std/10, mean+1.96*std/10)"
      ],
      "execution_count": 0,
      "outputs": [
        {
          "output_type": "stream",
          "text": [
            "the average predict return is:  0.33769265002606746\n",
            "the average actual return is:  0.11303600408470356\n",
            "the average random return is:  0.22496696609938033\n",
            "the average (predict return-actual return) is:  0.2246566459413639\n",
            "the difference CI is:  0.19224510205976575 0.25706818982296203\n"
          ],
          "name": "stdout"
        }
      ]
    },
    {
      "cell_type": "code",
      "metadata": {
        "id": "PqJfq2VMQ5e_",
        "colab_type": "code",
        "outputId": "d64916f5-1f65-4386-e2b8-fc569c8aca7d",
        "colab": {
          "base_uri": "https://localhost:8080/",
          "height": 170
        }
      },
      "source": [
        "n=31 #number of companies\n",
        "x = cvx.Variable(n, nonneg=True) #create a variable for weight, total n\n",
        "y = cvx.Variable(n, boolean=True)\n",
        "obj = cvx.Maximize(x*returnCoef)\n",
        "cons = [] #initialize constraint list\n",
        "cons.append(cvx.sum(x) == 1) #weight sum to 1\n",
        "cons.append(x*riskCoef <= 0.25) #risk constraints\n",
        "cons.append(cvx.sum(y) >= 5)\n",
        "cons.append(x >= y*0.05)\n",
        "prob = cvx.Problem(obj,cons)\n",
        "prob.solve()\n",
        "print(\"The weight for investment on companies: \",x.value)\n",
        "#print(\"y: \",y.value)\n",
        "print(\"Final predicted return percentage: \",prob.value)\n",
        "# listx=[]\n",
        "# if (x>=0.2):\n",
        "#   listx.append(x.value)\n",
        "# print(listx)"
      ],
      "execution_count": 0,
      "outputs": [
        {
          "output_type": "stream",
          "text": [
            "The weight for investment on companies:  [0.00000000e+00 0.00000000e+00 0.00000000e+00 0.00000000e+00\n",
            " 0.00000000e+00 5.00000000e-02 0.00000000e+00 0.00000000e+00\n",
            " 0.00000000e+00 0.00000000e+00 0.00000000e+00 0.00000000e+00\n",
            " 0.00000000e+00 0.00000000e+00 0.00000000e+00 5.39701406e-02\n",
            " 0.00000000e+00 0.00000000e+00 5.00000000e-02 0.00000000e+00\n",
            " 0.00000000e+00 5.00000000e-02 0.00000000e+00 0.00000000e+00\n",
            " 0.00000000e+00 3.33979254e-18 0.00000000e+00 0.00000000e+00\n",
            " 7.96029859e-01 0.00000000e+00 8.76887393e-17]\n",
            "Final predicted return percentage:  0.3705240020179729\n"
          ],
          "name": "stdout"
        }
      ]
    },
    {
      "cell_type": "code",
      "metadata": {
        "id": "Z62z0IrEy4tw",
        "colab_type": "code",
        "outputId": "e22ca489-95aa-436c-cbc3-1c7cfe33c902",
        "colab": {
          "base_uri": "https://localhost:8080/",
          "height": 68
        }
      },
      "source": [
        "predictWeight = x.value\n",
        "predictreturn = np.sum(predictWeight*df['return'])\n",
        "print(\"predict: \",predictreturn)\n",
        "\n",
        "actualreturn = np.sum(predictWeight*df['actual'])\n",
        "print(\"actual: \", actualreturn)\n",
        "\n",
        "a = np.random.random(31)\n",
        "a /= a.sum()\n",
        "randomreturn = np.sum(a*df['actual'])\n",
        "print(\"random: \", randomreturn)"
      ],
      "execution_count": 0,
      "outputs": [
        {
          "output_type": "stream",
          "text": [
            "predict:  0.3705240020179729\n",
            "actual:  0.2944863996867235\n",
            "random:  0.1272606371702807\n"
          ],
          "name": "stdout"
        }
      ]
    },
    {
      "cell_type": "code",
      "metadata": {
        "id": "bnlp3KuZlPuk",
        "colab_type": "code",
        "outputId": "9f217979-355d-424b-c629-a6417b6714f9",
        "colab": {
          "base_uri": "https://localhost:8080/",
          "height": 34
        }
      },
      "source": [
        "list_result=[]\n",
        "list_result.append(predictreturn)\n",
        "list_result.append(actualreturn)\n",
        "list_result.append(randomreturn)\n",
        "list_result"
      ],
      "execution_count": 0,
      "outputs": [
        {
          "output_type": "execute_result",
          "data": {
            "text/plain": [
              "[0.3705240020179729, 0.2944863996867235, 0.1272606371702807]"
            ]
          },
          "metadata": {
            "tags": []
          },
          "execution_count": 118
        }
      ]
    },
    {
      "cell_type": "code",
      "metadata": {
        "id": "zL5AhBihkS1I",
        "colab_type": "code",
        "outputId": "8c95b99b-4b99-403e-83f5-9e6cdaa2a5d5",
        "colab": {
          "base_uri": "https://localhost:8080/",
          "height": 281
        }
      },
      "source": [
        "sns.distplot(list_result,kde=True)\n",
        "#plt.hist(list_result)\n",
        "plt.title('Comparision')\n",
        "#plt.set_ylabel(\"rate of return\")\n",
        "#plt.set_xlabel(\"type\")\n",
        "plt.grid(True)\n",
        "plt.show()"
      ],
      "execution_count": 0,
      "outputs": [
        {
          "output_type": "display_data",
          "data": {
            "image/png": "[encoded data removed]",
            "text/plain": [
              "<Figure size 432x288 with 1 Axes>"
            ]
          },
          "metadata": {
            "tags": []
          }
        }
      ]
    },
    {
      "cell_type": "markdown",
      "metadata": {
        "id": "R5_x2MMiUsRt",
        "colab_type": "text"
      },
      "source": [
        "# Optimization:risk seeking"
      ]
    },
    {
      "cell_type": "code",
      "metadata": {
        "id": "MBcNPNAm7WKr",
        "colab_type": "code",
        "outputId": "b1d2caf3-d05f-4f6b-9a69-1386193d5f58",
        "colab": {
          "base_uri": "https://localhost:8080/",
          "height": 115
        }
      },
      "source": [
        "listpredict = []\n",
        "listactual = []\n",
        "listdiff = []\n",
        "listdiff2 = []\n",
        "listrandom = []\n",
        "\n",
        "for i in range(100):\n",
        "  listreturn=[]\n",
        "  listrisk=[]\n",
        "  listactualreturn=[]\n",
        "  v = np.random.randint(0,30,10)\n",
        "  #get random combination of 10 companies\n",
        "  for num in v:\n",
        "    listreturn.append(returnCoef[num])\n",
        "    listrisk.append(riskCoef[num])\n",
        "    listactualreturn.append(actualReturn[num])\n",
        "  #print(listactualreturn)\n",
        "  #LP\n",
        "  n=10 #number of companies\n",
        "  x = cvx.Variable(n, nonneg=True) #create a variable for weight, total n\n",
        "  y = cvx.Variable(n, boolean=True)\n",
        "  obj = cvx.Maximize(x*listreturn)\n",
        "  cons = [] #initialize constraint list\n",
        "  cons.append(cvx.sum(x) == 1) #weight sum to 1\n",
        "  cons.append(x*listrisk <= 0.35) #risk constraints\n",
        "  #cons.append(cvx.sum(y) >= 5)\n",
        "  #cons.append(x >= y*0.05)\n",
        "  cons.append(x <= y*0.8)\n",
        "  prob = cvx.Problem(obj,cons)\n",
        "  prob.solve()\n",
        "\n",
        "  #get output\n",
        "  predictWeight = x.value\n",
        "  predictreturn = prob.value\n",
        "  #np.sum(predictWeight*listreturn)\n",
        "  actualreturn = np.sum(predictWeight*listactualreturn)\n",
        "  listpredict.append(predictreturn)\n",
        "  listactual.append(actualreturn)\n",
        "  listdiff.append(predictreturn-actualreturn)\n",
        "  \n",
        "\n",
        "  #random weight generation\n",
        "  a = np.random.random(10)\n",
        "  a /= a.sum()\n",
        "  randomreturn = np.sum(a*listactualreturn)\n",
        "  #randomreturn = np.sum(a*listreturn)\n",
        "  listrandom.append(randomreturn)\n",
        "  listdiff2.append(actualreturn-randomreturn)\n",
        "#print(\"the 100 predicted returns are: \", listpredict)\n",
        "#print(\"the 100 (predict return-actual return) is: \",listdiff)\n",
        "\n",
        "predictAvg = statistics.mean(listpredict)\n",
        "predictstd = statistics.stdev(listpredict)\n",
        "print(\"the average predict return is: \", statistics.mean(listpredict))\n",
        "print(\"the predict return CI is: \", predictAvg-1.96*predictstd/10, predictAvg+1.96*predictstd/10)\n",
        "actualAvg =  statistics.mean(listactual)\n",
        "actualstd = statistics.stdev(listactual)\n",
        "print(\"the average actual return is: \", statistics.mean(listactual))\n",
        "print(\"the actual return CI is: \", actualAvg-1.96*actualstd/10, actualAvg+1.96*actualstd/10)\n",
        "randomAvg = statistics.mean(listrandom)\n",
        "randomstd = statistics.stdev(listrandom)\n",
        "print(\"the average random return is: \", statistics.mean(listrandom))\n",
        "print(\"the random return CI is: \", randomAvg-1.96*randomstd/10, randomAvg+1.96*randomstd/10)\n",
        "\n",
        "# mean = statistics.mean(listdiff)\n",
        "# print(\"the average (predict return-actual return) is: \", mean)\n",
        "# print(\"the average (actual return-random return) is: \", statistics.mean(listdiff2))\n",
        "# std = statistics.stdev(listdiff)\n",
        "# print(\"the difference CI is: \", mean-1.96*std/10, mean+1.96*std/10)"
      ],
      "execution_count": 0,
      "outputs": [
        {
          "output_type": "stream",
          "text": [
            "the average predict return is:  0.3835800038103693\n",
            "the predict return CI is:  0.3723217183223694 0.39483828929836917\n",
            "the average actual return is:  0.15677483891118127\n",
            "the actual return CI is:  0.10878070628776823 0.2047689715345943\n",
            "the average random return is:  0.14461430569553613\n",
            "the random return CI is:  0.12906956863817665 0.1601590427528956\n"
          ],
          "name": "stdout"
        }
      ]
    },
    {
      "cell_type": "code",
      "metadata": {
        "id": "q7kJ1OGPZzgv",
        "colab_type": "code",
        "outputId": "03366cbd-e602-4640-abd8-e0421686e523",
        "colab": {
          "base_uri": "https://localhost:8080/",
          "height": 136
        }
      },
      "source": [
        "n=31 #number of companies\n",
        "x = cvx.Variable(n, nonneg=True) #create a variable for weight, total n\n",
        "y = cvx.Variable(n, boolean=True)\n",
        "obj = cvx.Maximize(x*returnCoef)\n",
        "cons = [] #initialize constraint list\n",
        "cons.append(cvx.sum(x) == 1) #weight sum to 1\n",
        "cons.append(x*riskCoef <= 0.30) #risk constraints\n",
        "cons.append(cvx.sum(y) >= 5)\n",
        "cons.append(x >= y*0.05)\n",
        "prob = cvx.Problem(obj,cons)\n",
        "prob.solve()\n",
        "print(\"The weight for investment on companies: \",x.value)\n",
        "#print(\"y: \",y.value)\n",
        "print(\"Final predicted return percentage: \",prob.value)\n",
        "# listx=[]\n",
        "# if (x>=0.2):\n",
        "#   listx.append(x.value)\n",
        "# print(listx)"
      ],
      "execution_count": 0,
      "outputs": [
        {
          "output_type": "stream",
          "text": [
            "The weight for investment on companies:  [0.         0.         0.         0.         0.         0.05\n",
            " 0.         0.         0.         0.         0.         0.\n",
            " 0.         0.         0.         0.74977741 0.         0.\n",
            " 0.05       0.         0.         0.05       0.         0.\n",
            " 0.         0.         0.         0.         0.10022259 0.\n",
            " 0.        ]\n",
            "Final predicted return percentage:  0.4167339439933521\n"
          ],
          "name": "stdout"
        }
      ]
    },
    {
      "cell_type": "code",
      "metadata": {
        "id": "o_tz2BQP7_Zy",
        "colab_type": "code",
        "outputId": "f9e04087-2866-4290-9b39-200974b513d6",
        "colab": {
          "base_uri": "https://localhost:8080/",
          "height": 68
        }
      },
      "source": [
        "predictWeight = x.value\n",
        "predictreturn = np.sum(predictWeight*df['return'])\n",
        "print(\"predict: \",predictreturn)\n",
        "\n",
        "actualreturn = np.sum(predictWeight*df['actual'])\n",
        "print(\"actual: \", actualreturn)\n",
        "\n",
        "a = np.random.random(31)\n",
        "a /= a.sum()\n",
        "randomreturn = np.sum(a*df['actual'])\n",
        "print(\"random: \", randomreturn)"
      ],
      "execution_count": 0,
      "outputs": [
        {
          "output_type": "stream",
          "text": [
            "predict:  0.4167339439933522\n",
            "actual:  -0.1277372064961582\n",
            "random:  0.13978623186253444\n"
          ],
          "name": "stdout"
        }
      ]
    },
    {
      "cell_type": "markdown",
      "metadata": {
        "id": "UTUy_res1fzy",
        "colab_type": "text"
      },
      "source": [
        "# Balanced"
      ]
    },
    {
      "cell_type": "code",
      "metadata": {
        "id": "jIWs-8MOdYWI",
        "colab_type": "code",
        "outputId": "7f5b8c1f-8e44-4680-dd42-a85670ccd877",
        "colab": {
          "base_uri": "https://localhost:8080/",
          "height": 115
        }
      },
      "source": [
        "listpredict = []\n",
        "listactual = []\n",
        "listdiff = []\n",
        "listdiff2 = []\n",
        "listrandom = []\n",
        "\n",
        "for i in range(100):\n",
        "  listreturn=[]\n",
        "  listrisk=[]\n",
        "  listactualreturn=[]\n",
        "  v = np.random.randint(0,30,10)\n",
        "  #get random combination of 10 companies\n",
        "  for num in v:\n",
        "    listreturn.append(returnCoef[num])\n",
        "    listrisk.append(riskCoef[num])\n",
        "    listactualreturn.append(actualReturn[num])\n",
        "  #print(listactualreturn)\n",
        "  \n",
        "  #LP\n",
        "  n=10 #number of companies\n",
        "  x = cvx.Variable(n, nonneg=True) #create a variable for weight, total n\n",
        "  y = cvx.Variable(n, boolean=True)\n",
        "  obj = cvx.Maximize(x*listreturn)\n",
        "  cons = [] #initialize constraint list\n",
        "  cons.append(cvx.sum(x) == 1) #weight sum to 1\n",
        "  cons.append(x*listrisk <= 0.3) #risk constraints\n",
        "  #cons.append(cvx.sum(y) >= 5)\n",
        "  #cons.append(x >= y*0.05)\n",
        "  cons.append(x <= y*0.3)\n",
        "  prob = cvx.Problem(obj,cons)\n",
        "  prob.solve()\n",
        "\n",
        "  #get output\n",
        "  predictWeight = x.value\n",
        "  predictreturn = prob.value\n",
        "  #np.sum(predictWeight*listreturn)\n",
        "  actualreturn = np.sum(predictWeight*listactualreturn)\n",
        "  listpredict.append(predictreturn)\n",
        "  listactual.append(actualreturn)\n",
        "  listdiff.append(predictreturn-actualreturn)\n",
        "  \n",
        "\n",
        "  #random weight generation\n",
        "  a = np.random.random(10)\n",
        "  a /= a.sum()\n",
        "  randomreturn = np.sum(a*listactualreturn)\n",
        "  #randomreturn = np.sum(a*listreturn)\n",
        "  listrandom.append(randomreturn)\n",
        "  listdiff2.append(actualreturn-randomreturn)\n",
        "#print(\"the 100 predicted returns are: \", listpredict)\n",
        "#print(\"the 100 (predict return-actual return) is: \",listdiff)\n",
        "\n",
        "predictAvg = statistics.mean(listpredict)\n",
        "predictstd = statistics.stdev(listpredict)\n",
        "print(\"the average predict return is: \", statistics.mean(listpredict))\n",
        "print(\"the predict return CI is: \", predictAvg-1.96*predictstd/10, predictAvg+1.96*predictstd/10)\n",
        "actualAvg =  statistics.mean(listactual)\n",
        "actualstd = statistics.stdev(listactual)\n",
        "print(\"the average actual return is: \", statistics.mean(listactual))\n",
        "print(\"the actual return CI is: \", actualAvg-1.96*actualstd/10, actualAvg+1.96*actualstd/10)\n",
        "randomAvg = statistics.mean(listrandom)\n",
        "randomstd = statistics.stdev(listrandom)\n",
        "print(\"the average random return is: \", statistics.mean(listrandom))\n",
        "print(\"the random return CI is: \", randomAvg-1.96*randomstd/10, randomAvg+1.96*randomstd/10)\n",
        "\n",
        "# mean = statistics.mean(listdiff)\n",
        "# print(\"the average (predict return-actual return) is: \", mean)\n",
        "# print(\"the average (actual return-random return) is: \", statistics.mean(listdiff2))\n",
        "# std = statistics.stdev(listdiff)\n",
        "# print(\"the difference CI is: \", mean-1.96*std/10, mean+1.96*std/10)"
      ],
      "execution_count": 0,
      "outputs": [
        {
          "output_type": "stream",
          "text": [
            "the average predict return is:  0.3156008691354626\n",
            "the predict return CI is:  0.30528687600962867 0.3259148622612965\n",
            "the average actual return is:  0.16352784870890794\n",
            "the actual return CI is:  0.13212112551197414 0.19493457190584174\n",
            "the average random return is:  0.13499286535938188\n",
            "the random return CI is:  0.11872398937780904 0.15126174134095471\n"
          ],
          "name": "stdout"
        }
      ]
    },
    {
      "cell_type": "markdown",
      "metadata": {
        "id": "ppNcxSvD-6CQ",
        "colab_type": "text"
      },
      "source": [
        "Scenario1: diverse"
      ]
    },
    {
      "cell_type": "code",
      "metadata": {
        "id": "QH6ASgrn-s9z",
        "colab_type": "code",
        "outputId": "b31ce36f-adc8-4ee7-94d3-3eec095b0d4e",
        "colab": {
          "base_uri": "https://localhost:8080/",
          "height": 170
        }
      },
      "source": [
        "n=31 #number of companies\n",
        "x = cvx.Variable(n, nonneg=True) #create a variable for weight, total n\n",
        "#y = cvx.Variable(n, boolean=True)\n",
        "obj = cvx.Maximize(x*returnCoef)\n",
        "cons = [] #initialize constraint list\n",
        "cons.append(cvx.sum(x) == 1) #weight sum to 1\n",
        "#cons.append(x*riskCoef <= 0.30) #risk constraints\n",
        "#cons.append(cvx.sum(y) >= 5)\n",
        "cons.append(x <= 0.1)\n",
        "prob = cvx.Problem(obj,cons)\n",
        "prob.solve()\n",
        "print(\"The weight for investment on companies: \",x.value)\n",
        "#print(\"y: \",y.value)\n",
        "print(\"Final predicted return percentage: \",prob.value)\n",
        "# listx=[]\n",
        "# if (x>=0.2):\n",
        "#   listx.append(x.value)\n",
        "# print(listx)"
      ],
      "execution_count": 0,
      "outputs": [
        {
          "output_type": "stream",
          "text": [
            "The weight for investment on companies:  [5.33627301e-08 5.33567535e-08 5.33782634e-08 5.33701830e-08\n",
            " 5.33696861e-08 1.00000053e-01 5.33813656e-08 5.33824654e-08\n",
            " 5.33582288e-08 5.33730124e-08 5.33738693e-08 5.33793884e-08\n",
            " 5.33754288e-08 1.00000053e-01 5.33649482e-08 1.00000053e-01\n",
            " 5.33765682e-08 5.33799641e-08 1.00000061e-01 5.33806785e-08\n",
            " 1.00000053e-01 1.00000053e-01 5.33867940e-08 5.33693003e-08\n",
            " 5.33645651e-08 1.00000053e-01 0.00000000e+00 5.33748158e-08\n",
            " 1.00000053e-01 1.00000053e-01 1.00000053e-01]\n",
            "Final predicted return percentage:  0.43021053427326694\n"
          ],
          "name": "stdout"
        }
      ]
    },
    {
      "cell_type": "code",
      "metadata": {
        "id": "1VXAaY1TCUY-",
        "colab_type": "code",
        "outputId": "619560e2-1a93-479e-aca2-a62ea67b4863",
        "colab": {
          "base_uri": "https://localhost:8080/",
          "height": 68
        }
      },
      "source": [
        "predictWeight = x.value\n",
        "predictreturn = np.sum(predictWeight*df['return'])\n",
        "print(\"predict: \",predictreturn)\n",
        "\n",
        "actualreturn = np.sum(predictWeight*df['actual'])\n",
        "print(\"actual: \", actualreturn)\n",
        "\n",
        "a = np.random.random(31)\n",
        "a /= a.sum()\n",
        "randomreturn = np.sum(a*df['actual'])\n",
        "print(\"random: \", randomreturn)"
      ],
      "execution_count": 0,
      "outputs": [
        {
          "output_type": "stream",
          "text": [
            "predict:  0.43021095696011624\n",
            "actual:  0.15637935389048563\n",
            "random:  0.18737292234974398\n"
          ],
          "name": "stdout"
        }
      ]
    },
    {
      "cell_type": "markdown",
      "metadata": {
        "id": "K-PJ2QGgpDAY",
        "colab_type": "text"
      },
      "source": [
        "Scenario2: one basket\n"
      ]
    },
    {
      "cell_type": "code",
      "metadata": {
        "id": "hSp2mep3CJro",
        "colab_type": "code",
        "outputId": "8fdf1095-b1ae-4332-a9af-8d0669660747",
        "colab": {
          "base_uri": "https://localhost:8080/",
          "height": 170
        }
      },
      "source": [
        "n=31 #number of companies\n",
        "x = cvx.Variable(n, nonneg=True) #create a variable for weight, total n\n",
        "#y = cvx.Variable(n, boolean=True)\n",
        "obj = cvx.Maximize(x*returnCoef)\n",
        "cons = [] #initialize constraint list\n",
        "cons.append(cvx.sum(x) == 1) #weight sum to 1\n",
        "#cons.append(x*riskCoef <= 0.30) #risk constraints\n",
        "#cons.append(cvx.sum(y) >= 5)\n",
        "#cons.append(x <= 0.1)\n",
        "prob = cvx.Problem(obj,cons)\n",
        "prob.solve()\n",
        "print(\"The weight for investment on companies: \",x.value)\n",
        "#print(\"y: \",y.value)\n",
        "print(\"Final predicted return percentage: \",prob.value)\n",
        "# listx=[]\n",
        "# if (x>=0.2):\n",
        "#   listx.append(x.value)\n",
        "# print(listx)"
      ],
      "execution_count": 0,
      "outputs": [
        {
          "output_type": "stream",
          "text": [
            "The weight for investment on companies:  [6.05268937e-28 6.05259693e-28 6.05124107e-28 6.05238122e-28\n",
            " 6.05275100e-28 6.04994685e-28 6.05080966e-28 6.05084048e-28\n",
            " 6.05262774e-28 6.05235041e-28 6.05139514e-28 6.05176492e-28\n",
            " 6.05151840e-28 6.05031662e-28 6.05247367e-28 6.04920729e-28\n",
            " 6.05158003e-28 6.05225796e-28 1.00000000e+00 6.05225796e-28\n",
            " 5.55117560e-23 6.04933055e-28 6.05090211e-28 6.05241204e-28\n",
            " 6.05247367e-28 6.05000848e-28 6.05053233e-28 6.05148759e-28\n",
            " 6.04985440e-28 6.04957707e-28 6.04960788e-28]\n",
            "Final predicted return percentage:  1.0144542480000005\n"
          ],
          "name": "stdout"
        }
      ]
    },
    {
      "cell_type": "code",
      "metadata": {
        "id": "kh6neNnRCnA1",
        "colab_type": "code",
        "outputId": "d6ab2b6c-467a-4929-9b36-4365a8b46082",
        "colab": {
          "base_uri": "https://localhost:8080/",
          "height": 68
        }
      },
      "source": [
        "predictWeight = x.value\n",
        "predictreturn = np.sum(predictWeight*df['return'])\n",
        "print(\"predict: \",predictreturn)\n",
        "\n",
        "actualreturn = np.sum(predictWeight*df['actual'])\n",
        "print(\"actual: \", actualreturn)\n",
        "\n",
        "a = np.random.random(31)\n",
        "a /= a.sum()\n",
        "randomreturn = np.sum(a*df['actual'])\n",
        "print(\"random: \", randomreturn)"
      ],
      "execution_count": 0,
      "outputs": [
        {
          "output_type": "stream",
          "text": [
            "predict:  1.0144542480000005\n",
            "actual:  0.10909090900000004\n",
            "random:  0.11899065979238838\n"
          ],
          "name": "stdout"
        }
      ]
    }
  ]
}